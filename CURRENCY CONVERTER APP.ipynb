{
 "cells": [
  {
   "cell_type": "code",
   "execution_count": null,
   "metadata": {},
   "outputs": [],
   "source": [
    "CurrencyConverter\n",
    "\n",
    "from tkinter import\n",
    "class CurrencyConverter:\n",
    "    def_init_(self):\n",
    "        window = TK()\n",
    "        window.title(\"Currency Converter\")\n",
    "        window.configure(bg=\"blue\")\n",
    "        \n",
    "        #Label widgets to application window\n",
    "        Label(window,font=\"Helvetica 12 bold\",bg=\"purple\",text =\"Amount to convert\").grid(row=1, column=1,sticky =W)\n",
    "        Label(window,font=\"Helvetica 12 bold\",bg=\"purple\",text = \"Conversion rate\").grid(row=1, column=1,sticky =W)\n",
    "        Label(Window,font=\"Helvetica 12 bold\",bg=\"purple\",text = \"Conerted Amount\").grid(row=1, column=1,sticky = W)\n",
    "        \n",
    "        #create objects and add entry functions\n",
    "        self.amounttoConvertVar = StringVar()\n",
    "        Entry(window, textvariable = self.conversionRateVar, justify = RIGHT).grid(row=1,column=2)\n",
    "        self.conversionRateVar = StringVar()\n",
    "        Entry(window, textvariable = self.conversionRateVar, justify = RIGHT).grid(row=2,column=2)\n",
    "        self.convertedAmountVar = StringVar()\n",
    "        \n",
    "        #Clear button and create buttons\n",
    "        lblConvertedAmout =Label(window,font=\"Helvetica 12 bold\",bg=\"green\",textvariable = self.convertedAmountVar).grid(row=3,column=2,sticky = E)\n",
    "        btConvertedAmount = Button(window, text = \"convert\",font=\"Helvetica 12 bold\",bg=\"blue\",fg=\"white\",command = self.ConvertedAmount).grid(row = 4, column=2,sticky = E)\n",
    "        btdelete_all = Button(window, text = \"clear\",font=\"Helvetica 12 bold\", bg=\"red\",fg=\"white\",command = self.delete_all).grid(row=4,column=6,padx=25,pady=25, sticky = E)\n",
    "        \n",
    "        \n",
    "        window.mainloop()\n",
    "    def convertedAmount(self):\n",
    "        amt = float(self.conversionRateVar.get())\n",
    "        convertedAmountVar = float(self.amounttoconvertVar.get())*amount\n",
    "        self.convertedamountVar.set(format(convertedAmountVar,\"10.2f\"))\n",
    "        \n",
    "    def delete_all(self):\n",
    "        self.amountConvertVar.set(\"\")\n",
    "        self.conversionRateVar.set(\"\")\n",
    "        self.convertedAmountVar.set(\"\")\n",
    "        \n",
    "    CurrencyConverter()"
   ]
  }
 ],
 "metadata": {
  "kernelspec": {
   "display_name": "Python 3",
   "language": "python",
   "name": "python3"
  },
  "language_info": {
   "codemirror_mode": {
    "name": "ipython",
    "version": 3
   },
   "file_extension": ".py",
   "mimetype": "text/x-python",
   "name": "python",
   "nbconvert_exporter": "python",
   "pygments_lexer": "ipython3",
   "version": "3.7.4"
  }
 },
 "nbformat": 4,
 "nbformat_minor": 2
}
